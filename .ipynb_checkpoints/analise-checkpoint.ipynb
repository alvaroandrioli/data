{
 "cells": [
  {
   "cell_type": "code",
   "execution_count": 1,
   "metadata": {},
   "outputs": [],
   "source": [
    "import pandas as pd\n",
    "import numpy as np\n",
    "from matplotlib import pyplot as plt\n",
    "import seaborn as sns\n",
    "import plotly_express as exp"
   ]
  },
  {
   "cell_type": "code",
   "execution_count": 2,
   "metadata": {},
   "outputs": [
    {
     "name": "stderr",
     "output_type": "stream",
     "text": [
      "/home/alvaro/d-projects/venv/lib/python3.8/site-packages/IPython/core/interactiveshell.py:3146: DtypeWarning: Columns (0) have mixed types.Specify dtype option on import or set low_memory=False.\n",
      "  has_raised = await self.run_ast_nodes(code_ast.body, cell_name,\n"
     ]
    }
   ],
   "source": [
    "df = pd.read_csv('./data/total.csv', sep=';', decimal = ',')"
   ]
  },
  {
   "cell_type": "code",
   "execution_count": 3,
   "metadata": {},
   "outputs": [
    {
     "data": {
      "text/html": [
       "<div>\n",
       "<style scoped>\n",
       "    .dataframe tbody tr th:only-of-type {\n",
       "        vertical-align: middle;\n",
       "    }\n",
       "\n",
       "    .dataframe tbody tr th {\n",
       "        vertical-align: top;\n",
       "    }\n",
       "\n",
       "    .dataframe thead th {\n",
       "        text-align: right;\n",
       "    }\n",
       "</style>\n",
       "<table border=\"1\" class=\"dataframe\">\n",
       "  <thead>\n",
       "    <tr style=\"text-align: right;\">\n",
       "      <th></th>\n",
       "      <th>codigo</th>\n",
       "      <th>status</th>\n",
       "      <th>situacao_debito</th>\n",
       "      <th>codigo_boleto</th>\n",
       "      <th>valor_debito</th>\n",
       "      <th>data_debito</th>\n",
       "      <th>operacao_origem</th>\n",
       "      <th>baixa_boleto</th>\n",
       "      <th>data_vencimento</th>\n",
       "      <th>data_pagamento</th>\n",
       "      <th>codigo_atendente</th>\n",
       "      <th>nome_atendente</th>\n",
       "      <th>quem_debitou</th>\n",
       "      <th>debitos_cliente</th>\n",
       "      <th>dias_corridos</th>\n",
       "      <th>valor_principal</th>\n",
       "    </tr>\n",
       "  </thead>\n",
       "  <tbody>\n",
       "    <tr>\n",
       "      <th>0</th>\n",
       "      <td>11</td>\n",
       "      <td>X</td>\n",
       "      <td>QUITADO</td>\n",
       "      <td>88</td>\n",
       "      <td>1.0</td>\n",
       "      <td>07/05/2014</td>\n",
       "      <td>VENDAS</td>\n",
       "      <td>00000011</td>\n",
       "      <td>20/05/2014</td>\n",
       "      <td>16/05/2014</td>\n",
       "      <td>5.0</td>\n",
       "      <td>NELCI</td>\n",
       "      <td>NELCI RODRIGUES FERREIRA</td>\n",
       "      <td>/  /</td>\n",
       "      <td>0</td>\n",
       "      <td>0.0</td>\n",
       "    </tr>\n",
       "    <tr>\n",
       "      <th>1</th>\n",
       "      <td>11</td>\n",
       "      <td>X</td>\n",
       "      <td>QUITADO</td>\n",
       "      <td>281</td>\n",
       "      <td>23.2</td>\n",
       "      <td>16/05/2014</td>\n",
       "      <td>VENDAS</td>\n",
       "      <td>00000011</td>\n",
       "      <td>20/05/2014</td>\n",
       "      <td>16/05/2014</td>\n",
       "      <td>1.0</td>\n",
       "      <td>MARCELO ANDRIOLI</td>\n",
       "      <td>NELCI RODRIGUES FERREIRA</td>\n",
       "      <td>/  /</td>\n",
       "      <td>0</td>\n",
       "      <td>0.0</td>\n",
       "    </tr>\n",
       "    <tr>\n",
       "      <th>2</th>\n",
       "      <td>11</td>\n",
       "      <td>X</td>\n",
       "      <td>QUITADO</td>\n",
       "      <td>282</td>\n",
       "      <td>274.0</td>\n",
       "      <td>16/05/2014</td>\n",
       "      <td>VENDAS</td>\n",
       "      <td>00000012</td>\n",
       "      <td>20/05/2014</td>\n",
       "      <td>16/05/2014</td>\n",
       "      <td>1.0</td>\n",
       "      <td>MARCELO ANDRIOLI</td>\n",
       "      <td>NELCI RODRIGUES FERREIRA</td>\n",
       "      <td>/  /</td>\n",
       "      <td>0</td>\n",
       "      <td>0.0</td>\n",
       "    </tr>\n",
       "  </tbody>\n",
       "</table>\n",
       "</div>"
      ],
      "text/plain": [
       "  codigo status situacao_debito  codigo_boleto  valor_debito data_debito  \\\n",
       "0     11      X         QUITADO             88           1.0  07/05/2014   \n",
       "1     11      X         QUITADO            281          23.2  16/05/2014   \n",
       "2     11      X         QUITADO            282         274.0  16/05/2014   \n",
       "\n",
       "  operacao_origem baixa_boleto data_vencimento data_pagamento  \\\n",
       "0          VENDAS     00000011      20/05/2014     16/05/2014   \n",
       "1          VENDAS     00000011      20/05/2014     16/05/2014   \n",
       "2          VENDAS     00000012      20/05/2014     16/05/2014   \n",
       "\n",
       "   codigo_atendente    nome_atendente              quem_debitou  \\\n",
       "0               5.0             NELCI  NELCI RODRIGUES FERREIRA   \n",
       "1               1.0  MARCELO ANDRIOLI  NELCI RODRIGUES FERREIRA   \n",
       "2               1.0  MARCELO ANDRIOLI  NELCI RODRIGUES FERREIRA   \n",
       "\n",
       "  debitos_cliente  dias_corridos valor_principal  \n",
       "0            /  /              0             0.0  \n",
       "1            /  /              0             0.0  \n",
       "2            /  /              0             0.0  "
      ]
     },
     "execution_count": 3,
     "metadata": {},
     "output_type": "execute_result"
    }
   ],
   "source": [
    "df.head(3)"
   ]
  },
  {
   "cell_type": "code",
   "execution_count": 4,
   "metadata": {},
   "outputs": [
    {
     "data": {
      "text/plain": [
       "codigo               object\n",
       "status               object\n",
       "situacao_debito      object\n",
       "codigo_boleto         int64\n",
       "valor_debito        float64\n",
       "data_debito          object\n",
       "operacao_origem      object\n",
       "baixa_boleto         object\n",
       "data_vencimento      object\n",
       "data_pagamento       object\n",
       "codigo_atendente    float64\n",
       "nome_atendente       object\n",
       "quem_debitou         object\n",
       "debitos_cliente      object\n",
       "dias_corridos         int64\n",
       "valor_principal      object\n",
       "dtype: object"
      ]
     },
     "execution_count": 4,
     "metadata": {},
     "output_type": "execute_result"
    }
   ],
   "source": [
    "df.dtypes"
   ]
  },
  {
   "cell_type": "code",
   "execution_count": 5,
   "metadata": {},
   "outputs": [],
   "source": [
    "del df['status']\n",
    "del df['codigo_boleto']\n",
    "del df['baixa_boleto']\n",
    "del df['debitos_cliente']\n",
    "del df['valor_principal']\n",
    "del df['nome_atendente']\n",
    "del df['codigo_atendente']"
   ]
  },
  {
   "cell_type": "code",
   "execution_count": 6,
   "metadata": {},
   "outputs": [
    {
     "data": {
      "text/plain": [
       "Index(['codigo', 'situacao_debito', 'valor_debito', 'data_debito',\n",
       "       'operacao_origem', 'data_vencimento', 'data_pagamento', 'quem_debitou',\n",
       "       'dias_corridos'],\n",
       "      dtype='object')"
      ]
     },
     "execution_count": 6,
     "metadata": {},
     "output_type": "execute_result"
    }
   ],
   "source": [
    "df.columns"
   ]
  },
  {
   "cell_type": "code",
   "execution_count": 7,
   "metadata": {},
   "outputs": [
    {
     "data": {
      "text/plain": [
       "array(['VENDAS', 'RESIDUO'], dtype=object)"
      ]
     },
     "execution_count": 7,
     "metadata": {},
     "output_type": "execute_result"
    }
   ],
   "source": [
    "df['operacao_origem'].unique()"
   ]
  },
  {
   "cell_type": "code",
   "execution_count": 8,
   "metadata": {},
   "outputs": [
    {
     "data": {
      "text/plain": [
       "array(['QUITADO', 'DEVEDOR'], dtype=object)"
      ]
     },
     "execution_count": 8,
     "metadata": {},
     "output_type": "execute_result"
    }
   ],
   "source": [
    "df['situacao_debito'].unique()"
   ]
  },
  {
   "cell_type": "code",
   "execution_count": 9,
   "metadata": {},
   "outputs": [
    {
     "data": {
      "text/html": [
       "<div>\n",
       "<style scoped>\n",
       "    .dataframe tbody tr th:only-of-type {\n",
       "        vertical-align: middle;\n",
       "    }\n",
       "\n",
       "    .dataframe tbody tr th {\n",
       "        vertical-align: top;\n",
       "    }\n",
       "\n",
       "    .dataframe thead th {\n",
       "        text-align: right;\n",
       "    }\n",
       "</style>\n",
       "<table border=\"1\" class=\"dataframe\">\n",
       "  <thead>\n",
       "    <tr style=\"text-align: right;\">\n",
       "      <th></th>\n",
       "      <th>valor_debito</th>\n",
       "    </tr>\n",
       "    <tr>\n",
       "      <th>situacao_debito</th>\n",
       "      <th></th>\n",
       "    </tr>\n",
       "  </thead>\n",
       "  <tbody>\n",
       "    <tr>\n",
       "      <th>DEVEDOR</th>\n",
       "      <td>29364.91</td>\n",
       "    </tr>\n",
       "    <tr>\n",
       "      <th>QUITADO</th>\n",
       "      <td>1047444.69</td>\n",
       "    </tr>\n",
       "  </tbody>\n",
       "</table>\n",
       "</div>"
      ],
      "text/plain": [
       "                 valor_debito\n",
       "situacao_debito              \n",
       "DEVEDOR              29364.91\n",
       "QUITADO            1047444.69"
      ]
     },
     "execution_count": 9,
     "metadata": {},
     "output_type": "execute_result"
    }
   ],
   "source": [
    "df.groupby('situacao_debito').agg({'valor_debito': 'sum'})"
   ]
  },
  {
   "cell_type": "code",
   "execution_count": 13,
   "metadata": {},
   "outputs": [
    {
     "data": {
      "text/plain": [
       "codigo              object\n",
       "situacao_debito     object\n",
       "valor_debito       float64\n",
       "data_debito         object\n",
       "operacao_origem     object\n",
       "data_vencimento     object\n",
       "data_pagamento      object\n",
       "quem_debitou        object\n",
       "dias_corridos        int64\n",
       "dtype: object"
      ]
     },
     "execution_count": 13,
     "metadata": {},
     "output_type": "execute_result"
    }
   ],
   "source": [
    "df.dtypes"
   ]
  },
  {
   "cell_type": "code",
   "execution_count": 17,
   "metadata": {},
   "outputs": [
    {
     "data": {
      "text/plain": [
       "str"
      ]
     },
     "execution_count": 17,
     "metadata": {},
     "output_type": "execute_result"
    }
   ],
   "source": [
    "type(df['data_pagamento'][0])"
   ]
  },
  {
   "cell_type": "code",
   "execution_count": null,
   "metadata": {},
   "outputs": [],
   "source": []
  }
 ],
 "metadata": {
  "kernelspec": {
   "display_name": "Python 3",
   "language": "python",
   "name": "python3"
  },
  "language_info": {
   "codemirror_mode": {
    "name": "ipython",
    "version": 3
   },
   "file_extension": ".py",
   "mimetype": "text/x-python",
   "name": "python",
   "nbconvert_exporter": "python",
   "pygments_lexer": "ipython3",
   "version": "3.8.5"
  }
 },
 "nbformat": 4,
 "nbformat_minor": 4
}
